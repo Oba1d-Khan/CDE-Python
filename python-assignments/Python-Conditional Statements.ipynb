{
 "cells": [
  {
   "cell_type": "markdown",
   "id": "8a1f62f7",
   "metadata": {},
   "source": [
    "### Python Basics (Conditional Statements)"
   ]
  },
  {
   "cell_type": "markdown",
   "id": "645471a9",
   "metadata": {},
   "source": [
    "##### 1. A company decided to give bonus of 5% to employee if his/her year of service is more than 5 years. Ask user for their salary and year of service and print the net bonus amount."
   ]
  },
  {
   "cell_type": "code",
   "execution_count": 17,
   "id": "a4eb7151",
   "metadata": {},
   "outputs": [
    {
     "name": "stdout",
     "output_type": "stream",
     "text": [
      "No Bonus\n"
     ]
    }
   ],
   "source": [
    "salary = int(input(\"Enter your salary: \"))\n",
    "years = int(input(\"Enter years of service: \"))\n",
    "if years > 5:\n",
    "    bonus = salary * 0.05\n",
    "    print(\"Bonus:\", bonus)\n",
    "else:\n",
    "    print(\"No Bonus\")"
   ]
  },
  {
   "cell_type": "markdown",
   "id": "4dd17067",
   "metadata": {},
   "source": [
    "##### 2. Write a program to check whether a person is eligible for voting or not. (accept age from user) if age is greater than 17 eligible otherwise not eligible"
   ]
  },
  {
   "cell_type": "code",
   "execution_count": 18,
   "id": "a8839464",
   "metadata": {},
   "outputs": [
    {
     "name": "stdout",
     "output_type": "stream",
     "text": [
      "Eligible\n"
     ]
    }
   ],
   "source": [
    "age = int(input(\"Enter age: \"))\n",
    "print(\"Eligible\" if age > 17 else \"Not Eligible\")"
   ]
  },
  {
   "cell_type": "markdown",
   "id": "49f8b5e2",
   "metadata": {},
   "source": [
    "##### 3. Write a program to check whether a number entered by user is even or odd."
   ]
  },
  {
   "cell_type": "code",
   "execution_count": 19,
   "id": "4be875a9",
   "metadata": {},
   "outputs": [
    {
     "name": "stdout",
     "output_type": "stream",
     "text": [
      "Even\n"
     ]
    }
   ],
   "source": [
    "num = int(input(\"Enter number: \"))\n",
    "print(\"Even\" if num % 2 == 0 else \"Odd\")"
   ]
  },
  {
   "cell_type": "markdown",
   "id": "beb0594a",
   "metadata": {},
   "source": [
    "##### 4. Write a program to check whether a number is divisible by 7 or not."
   ]
  },
  {
   "cell_type": "code",
   "execution_count": 20,
   "id": "5d04c360",
   "metadata": {},
   "outputs": [
    {
     "name": "stdout",
     "output_type": "stream",
     "text": [
      "Not divisible by 7\n"
     ]
    }
   ],
   "source": [
    "num = int(input(\"Enter number: \"))\n",
    "print(\"Divisible by 7\" if num % 7 == 0 else \"Not divisible by 7\")"
   ]
  },
  {
   "cell_type": "markdown",
   "id": "25a1909a",
   "metadata": {},
   "source": [
    "##### 5. Write a program to display 'Hello' if a number entered by user is a multiple of five , otherwise print 'Bye'."
   ]
  },
  {
   "cell_type": "code",
   "execution_count": 21,
   "id": "54ee5202",
   "metadata": {},
   "outputs": [
    {
     "ename": "ValueError",
     "evalue": "invalid literal for int() with base 10: ''",
     "output_type": "error",
     "traceback": [
      "\u001b[1;31m---------------------------------------------------------------------------\u001b[0m",
      "\u001b[1;31mValueError\u001b[0m                                Traceback (most recent call last)",
      "Cell \u001b[1;32mIn[21], line 1\u001b[0m\n\u001b[1;32m----> 1\u001b[0m num \u001b[38;5;241m=\u001b[39m \u001b[38;5;28;43mint\u001b[39;49m\u001b[43m(\u001b[49m\u001b[38;5;28;43minput\u001b[39;49m\u001b[43m(\u001b[49m\u001b[38;5;124;43m\"\u001b[39;49m\u001b[38;5;124;43mEnter number: \u001b[39;49m\u001b[38;5;124;43m\"\u001b[39;49m\u001b[43m)\u001b[49m\u001b[43m)\u001b[49m\n\u001b[0;32m      2\u001b[0m \u001b[38;5;28mprint\u001b[39m(\u001b[38;5;124m\"\u001b[39m\u001b[38;5;124mHello\u001b[39m\u001b[38;5;124m\"\u001b[39m \u001b[38;5;28;01mif\u001b[39;00m num \u001b[38;5;241m%\u001b[39m \u001b[38;5;241m5\u001b[39m \u001b[38;5;241m==\u001b[39m \u001b[38;5;241m0\u001b[39m \u001b[38;5;28;01melse\u001b[39;00m \u001b[38;5;124m\"\u001b[39m\u001b[38;5;124mBye\u001b[39m\u001b[38;5;124m\"\u001b[39m)\n",
      "\u001b[1;31mValueError\u001b[0m: invalid literal for int() with base 10: ''"
     ]
    }
   ],
   "source": [
    "num = int(input(\"Enter number: \"))\n",
    "print(\"Hello\" if num % 5 == 0 else \"Bye\")"
   ]
  },
  {
   "cell_type": "markdown",
   "id": "fb7c3f98",
   "metadata": {},
   "source": [
    "##### 6. Write a program to display the last digit of a number."
   ]
  },
  {
   "cell_type": "code",
   "execution_count": null,
   "id": "5c68c4cc",
   "metadata": {},
   "outputs": [
    {
     "name": "stdout",
     "output_type": "stream",
     "text": [
      "Last digit: 2\n"
     ]
    }
   ],
   "source": [
    "num = int(input(\"Enter number: \"))\n",
    "print(\"Last digit:\", num % 10)"
   ]
  },
  {
   "cell_type": "markdown",
   "id": "65bf00df",
   "metadata": {},
   "source": [
    "##### 7. Take values of length and breadth of a rectangle from user and print if it is square or rectangle."
   ]
  },
  {
   "cell_type": "code",
   "execution_count": null,
   "id": "212755ce",
   "metadata": {},
   "outputs": [
    {
     "name": "stdout",
     "output_type": "stream",
     "text": [
      "Square\n"
     ]
    }
   ],
   "source": [
    "l = int(input(\"Enter length: \"))\n",
    "b = int(input(\"Enter breadth: \"))\n",
    "print(\"Square\" if l == b else \"Rectangle\")"
   ]
  },
  {
   "cell_type": "markdown",
   "id": "de493d18",
   "metadata": {},
   "source": [
    "##### 8. Take two int values from user and print greatest among them."
   ]
  },
  {
   "cell_type": "code",
   "execution_count": null,
   "id": "f7b140bf",
   "metadata": {},
   "outputs": [
    {
     "name": "stdout",
     "output_type": "stream",
     "text": [
      "Greatest: 5\n"
     ]
    }
   ],
   "source": [
    "a = int(input(\"Enter first number: \"))\n",
    "b = int(input(\"Enter second number: \"))\n",
    "print(\"Greatest:\", a if a > b else b)"
   ]
  },
  {
   "cell_type": "markdown",
   "id": "9d8aa2e9",
   "metadata": {},
   "source": [
    "##### 9. A shop will give discount of 10% if the cost of purchased quantity is more than 1000. Ask user for quantity Suppose, one unit will cost 100. Judge and print total cost for user."
   ]
  },
  {
   "cell_type": "code",
   "execution_count": null,
   "id": "4e619e84",
   "metadata": {},
   "outputs": [
    {
     "name": "stdout",
     "output_type": "stream",
     "text": [
      "Total cost: 200\n"
     ]
    }
   ],
   "source": [
    "qty = int(input(\"Enter quantity: \"))\n",
    "cost = qty * 100\n",
    "if cost > 1000:\n",
    "    cost *= 0.9\n",
    "print(\"Total cost:\", cost)"
   ]
  },
  {
   "cell_type": "markdown",
   "id": "cecb700a",
   "metadata": {},
   "source": [
    "##### 10. A school has following rules for grading system:\n",
    "- Below 25 - F\n",
    "- 25 to 45 - E\n",
    "- 45 to 50 - D\n",
    "- 50 to 60 - C\n",
    "- 60 to 80 - B\n",
    "- Above 80 - A"
   ]
  },
  {
   "cell_type": "code",
   "execution_count": null,
   "id": "267a882c",
   "metadata": {},
   "outputs": [
    {
     "name": "stdout",
     "output_type": "stream",
     "text": [
      "Grade: C\n"
     ]
    }
   ],
   "source": [
    "marks = int(input(\"Enter marks: \"))\n",
    "if marks < 25:\n",
    "    grade = \"F\"\n",
    "elif marks <= 45:\n",
    "    grade = \"E\"\n",
    "elif marks <= 50:\n",
    "    grade = \"D\"\n",
    "elif marks <= 60:\n",
    "    grade = \"C\"\n",
    "elif marks <= 80:\n",
    "    grade = \"B\"\n",
    "else:\n",
    "    grade = \"A\"\n",
    "print(\"Grade:\", grade)"
   ]
  },
  {
   "cell_type": "markdown",
   "id": "4dc06e6f",
   "metadata": {},
   "source": [
    "##### 11. A student will not be allowed to sit in exam if his/her attendence is less than 75%."
   ]
  },
  {
   "cell_type": "code",
   "execution_count": null,
   "id": "9c74953f",
   "metadata": {},
   "outputs": [
    {
     "name": "stdout",
     "output_type": "stream",
     "text": [
      "Attendance: 100.0 %\n",
      "Allowed to sit in exam\n"
     ]
    }
   ],
   "source": [
    "classes_held = int(input(\"Enter total classes held: \"))\n",
    "classes_attended = int(input(\"Enter total classes attended: \"))\n",
    "attendance = (classes_attended / classes_held) * 100\n",
    "print(\"Attendance:\", attendance, \"%\")\n",
    "if attendance >= 75:\n",
    "    print(\"Allowed to sit in exam\")\n",
    "else:\n",
    "    print(\"Not allowed\")"
   ]
  },
  {
   "cell_type": "markdown",
   "id": "f3d0368d",
   "metadata": {},
   "source": [
    "##### 12. Modify the above question to allow student to sit if he/she has medical cause."
   ]
  },
  {
   "cell_type": "code",
   "execution_count": null,
   "id": "56756de6",
   "metadata": {},
   "outputs": [
    {
     "name": "stdout",
     "output_type": "stream",
     "text": [
      "Allowed to sit in exam\n"
     ]
    }
   ],
   "source": [
    "classes_held = int(input(\"Enter total classes held: \"))\n",
    "classes_attended = int(input(\"Enter total classes attended: \"))\n",
    "attendance = (classes_attended / classes_held) * 100\n",
    "medical = input(\"Do you have medical cause? (Y/N): \").upper()\n",
    "if attendance >= 75 or medical == \"Y\":\n",
    "    print(\"Allowed to sit in exam\")\n",
    "else:\n",
    "    print(\"Not allowed\")"
   ]
  },
  {
   "cell_type": "markdown",
   "id": "f93837ab",
   "metadata": {},
   "source": [
    "##### 13. Write a program to check if a year is leap year or not."
   ]
  },
  {
   "cell_type": "code",
   "execution_count": null,
   "id": "8c4aa3fe",
   "metadata": {},
   "outputs": [
    {
     "name": "stdout",
     "output_type": "stream",
     "text": [
      "Not Leap Year\n"
     ]
    }
   ],
   "source": [
    "year = int(input(\"Enter year: \"))\n",
    "if (year % 400 == 0) or (year % 100 != 0 and year % 4 == 0):\n",
    "    print(\"Leap Year\")\n",
    "else:\n",
    "    print(\"Not Leap Year\")"
   ]
  },
  {
   "cell_type": "markdown",
   "id": "805359c1",
   "metadata": {},
   "source": [
    "##### 14. Ask user to enter age, gender ( M or F ), marital status ( Y or N ) and then using following rules print their place of service."
   ]
  },
  {
   "cell_type": "code",
   "execution_count": null,
   "id": "5ce97702",
   "metadata": {},
   "outputs": [
    {
     "name": "stdout",
     "output_type": "stream",
     "text": [
      "Can work anywhere\n"
     ]
    }
   ],
   "source": [
    "age = int(input(\"Enter age: \"))\n",
    "gender = input(\"Enter gender (M/F): \").upper()\n",
    "married = input(\"Married? (Y/N): \").upper()\n",
    "if gender == \"F\":\n",
    "    print(\"Urban areas only\")\n",
    "elif gender == \"M\" and 20 <= age <= 40:\n",
    "    print(\"Can work anywhere\")\n",
    "elif gender == \"M\" and 40 < age <= 60:\n",
    "    print(\"Urban areas only\")\n",
    "else:\n",
    "    print(\"ERROR\")"
   ]
  },
  {
   "cell_type": "markdown",
   "id": "79b156bc",
   "metadata": {},
   "source": [
    "##### 15. Write a program to calculate the electricity bill."
   ]
  },
  {
   "cell_type": "code",
   "execution_count": null,
   "id": "21b7f1d4",
   "metadata": {},
   "outputs": [],
   "source": [
    "units = int(input(\"Enter units consumed: \"))\n",
    "if units <= 100:\n",
    "    bill = 0\n",
    "elif units <= 300:\n",
    "    bill = (units - 100) * 5\n",
    "else:\n",
    "    bill = (200 * 5) + (units - 300) * 10\n",
    "print(\"Bill:\", bill)"
   ]
  },
  {
   "cell_type": "markdown",
   "id": "2a3fa8e3",
   "metadata": {},
   "source": [
    "##### 16. Take input of age of 3 people by user and determine oldest and youngest among them."
   ]
  },
  {
   "cell_type": "code",
   "execution_count": null,
   "id": "22e68560",
   "metadata": {},
   "outputs": [],
   "source": [
    "a = int(input(\"Enter age of first person: \"))\n",
    "b = int(input(\"Enter age of second person: \"))\n",
    "c = int(input(\"Enter age of third person: \"))\n",
    "print(\"Oldest:\", max(a, b, c))\n",
    "print(\"Youngest:\", min(a, b, c))"
   ]
  }
 ],
 "metadata": {
  "kernelspec": {
   "display_name": "base",
   "language": "python",
   "name": "python3"
  },
  "language_info": {
   "codemirror_mode": {
    "name": "ipython",
    "version": 3
   },
   "file_extension": ".py",
   "mimetype": "text/x-python",
   "name": "python",
   "nbconvert_exporter": "python",
   "pygments_lexer": "ipython3",
   "version": "3.11.5"
  }
 },
 "nbformat": 4,
 "nbformat_minor": 5
}
