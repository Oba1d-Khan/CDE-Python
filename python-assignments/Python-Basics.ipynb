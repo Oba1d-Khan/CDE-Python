{
 "cells": [
  {
   "cell_type": "markdown",
   "id": "126eb098",
   "metadata": {},
   "source": [
    "### Part - 1 : Python Basics"
   ]
  },
  {
   "cell_type": "markdown",
   "id": "f7866ec9",
   "metadata": {},
   "source": [
    "##### 1. Print Your Name with your Father name and Date of birth using suitable escape sequence character"
   ]
  },
  {
   "cell_type": "code",
   "execution_count": 1,
   "id": "3c643349",
   "metadata": {},
   "outputs": [
    {
     "name": "stdout",
     "output_type": "stream",
     "text": [
      "Name:\tMuhammad Obaid Ullah Khan\n",
      "Father:\tMr. Khan\n",
      "DOB:\t01-01-2000\n"
     ]
    }
   ],
   "source": [
    "print(\"Name:\\tMuhammad Obaid Ullah Khan\\nFather:\\tMr. Khan\\nDOB:\\t01-01-2000\")"
   ]
  },
  {
   "cell_type": "markdown",
   "id": "83b73fc3",
   "metadata": {},
   "source": [
    "##### 2. Write your small bio using variables and print it using print function"
   ]
  },
  {
   "cell_type": "code",
   "execution_count": 2,
   "id": "80edb931",
   "metadata": {},
   "outputs": [
    {
     "name": "stdout",
     "output_type": "stream",
     "text": [
      "My name is Obaid. I am 24 years old. I work as a Software Engineer Intern. My hobby is Building Web Apps.\n"
     ]
    }
   ],
   "source": [
    "name = \"Obaid\"\n",
    "age = 24\n",
    "profession = \"Software Engineer Intern\"\n",
    "hobby = \"Building Web Apps\"\n",
    "print(f\"My name is {name}. I am {age} years old. I work as a {profession}. My hobby is {hobby}.\")"
   ]
  },
  {
   "cell_type": "markdown",
   "id": "be2cedb4",
   "metadata": {},
   "source": [
    "##### 3. Write a program in which use all the operators we can use in Python"
   ]
  },
  {
   "cell_type": "code",
   "execution_count": 3,
   "id": "1a2c8793",
   "metadata": {},
   "outputs": [
    {
     "name": "stdout",
     "output_type": "stream",
     "text": [
      "Addition: 13\n",
      "Subtraction: 7\n",
      "Multiplication: 30\n",
      "Division: 3.3333333333333335\n",
      "Floor Division: 3\n",
      "Modulus: 1\n",
      "Power: 1000\n",
      "Equal: False\n",
      "Not Equal: True\n",
      "Greater: True\n",
      "Less: False\n",
      "And: True\n",
      "Or: True\n",
      "Not: True\n"
     ]
    }
   ],
   "source": [
    "a, b = 10, 3\n",
    "print(\"Addition:\", a + b)\n",
    "print(\"Subtraction:\", a - b)\n",
    "print(\"Multiplication:\", a * b)\n",
    "print(\"Division:\", a / b)\n",
    "print(\"Floor Division:\", a // b)\n",
    "print(\"Modulus:\", a % b)\n",
    "print(\"Power:\", a ** b)\n",
    "print(\"Equal:\", a == b)\n",
    "print(\"Not Equal:\", a != b)\n",
    "print(\"Greater:\", a > b)\n",
    "print(\"Less:\", a < b)\n",
    "print(\"And:\", (a > 5) and (b < 5))\n",
    "print(\"Or:\", (a > 20) or (b < 5))\n",
    "print(\"Not:\", not(a > 20))"
   ]
  },
  {
   "cell_type": "markdown",
   "id": "bec03c59",
   "metadata": {},
   "source": [
    "##### 4. Completes the following steps of small task:\n",
    "Mention Marks of English , Islamiat and Maths out of 100 in 3 different variables\n",
    "Mention Variable of Total Marks and assign 300 to it\n",
    "Calculate Percentage"
   ]
  },
  {
   "cell_type": "code",
   "execution_count": 4,
   "id": "53e263f8",
   "metadata": {},
   "outputs": [
    {
     "name": "stdout",
     "output_type": "stream",
     "text": [
      "Obtained: 250 Percentage: 83.33333333333334 %\n"
     ]
    }
   ],
   "source": [
    "english = 85\n",
    "islamiat = 75\n",
    "maths = 90\n",
    "total_marks = 300\n",
    "obtained = english + islamiat + maths\n",
    "percentage = (obtained / total_marks) * 100\n",
    "print(\"Obtained:\", obtained, \"Percentage:\", percentage, \"%\")"
   ]
  },
  {
   "cell_type": "markdown",
   "id": "9dd000d4",
   "metadata": {},
   "source": [
    "### Part - 2 : Python Basics (Conditional Statements)"
   ]
  },
  {
   "cell_type": "markdown",
   "id": "758386f2",
   "metadata": {},
   "source": [
    "##### 1. A company decided to give bonus of 5% to employee if his/her year of service is more than 5 years. Ask user for their salary and year of service and print the net bonus amount."
   ]
  },
  {
   "cell_type": "code",
   "execution_count": 5,
   "id": "90f7ef75",
   "metadata": {},
   "outputs": [
    {
     "name": "stdout",
     "output_type": "stream",
     "text": [
      "No Bonus\n"
     ]
    }
   ],
   "source": [
    "salary = int(input(\"Enter your salary: \"))\n",
    "years = int(input(\"Enter years of service: \"))\n",
    "if years > 5:\n",
    "    bonus = salary * 0.05\n",
    "    print(\"Bonus:\", bonus)\n",
    "else:\n",
    "    print(\"No Bonus\")"
   ]
  },
  {
   "cell_type": "markdown",
   "id": "8ba37260",
   "metadata": {},
   "source": [
    "##### 2. Write a program to check whether a person is eligible for voting or not. (accept age from user) if age is greater than 17 eligible otherwise not eligible"
   ]
  },
  {
   "cell_type": "code",
   "execution_count": 6,
   "id": "8d13fa49",
   "metadata": {},
   "outputs": [
    {
     "name": "stdout",
     "output_type": "stream",
     "text": [
      "Eligible\n"
     ]
    }
   ],
   "source": [
    "age = int(input(\"Enter age: \"))\n",
    "print(\"Eligible\" if age > 17 else \"Not Eligible\")"
   ]
  },
  {
   "cell_type": "markdown",
   "id": "0c5a5a46",
   "metadata": {},
   "source": [
    "##### 3. Write a program to check whether a number entered by user is even or odd."
   ]
  },
  {
   "cell_type": "code",
   "execution_count": 7,
   "id": "3e0e3f46",
   "metadata": {},
   "outputs": [
    {
     "name": "stdout",
     "output_type": "stream",
     "text": [
      "Odd\n"
     ]
    }
   ],
   "source": [
    "num = int(input(\"Enter number: \"))\n",
    "print(\"Even\" if num % 2 == 0 else \"Odd\")"
   ]
  },
  {
   "cell_type": "markdown",
   "id": "34365a71",
   "metadata": {},
   "source": [
    "##### 4. Write a program to check whether a number is divisible by 7 or not."
   ]
  },
  {
   "cell_type": "code",
   "execution_count": 8,
   "id": "86d46595",
   "metadata": {},
   "outputs": [
    {
     "name": "stdout",
     "output_type": "stream",
     "text": [
      "Not divisible by 7\n"
     ]
    }
   ],
   "source": [
    "num = int(input(\"Enter number: \"))\n",
    "print(\"Divisible by 7\" if num % 7 == 0 else \"Not divisible by 7\")"
   ]
  },
  {
   "cell_type": "markdown",
   "id": "6e8298bf",
   "metadata": {},
   "source": [
    "##### 5. Write a program to display 'Hello' if a number entered by user is a multiple of five , otherwise print 'Bye'."
   ]
  },
  {
   "cell_type": "code",
   "execution_count": 9,
   "id": "097cf03c",
   "metadata": {},
   "outputs": [
    {
     "name": "stdout",
     "output_type": "stream",
     "text": [
      "Bye\n"
     ]
    }
   ],
   "source": [
    "num = int(input(\"Enter number: \"))\n",
    "print(\"Hello\" if num % 5 == 0 else \"Bye\")"
   ]
  },
  {
   "cell_type": "markdown",
   "id": "9305fd45",
   "metadata": {},
   "source": [
    "##### 6. Write a program to display the last digit of a number."
   ]
  },
  {
   "cell_type": "code",
   "execution_count": 10,
   "id": "8e734f48",
   "metadata": {},
   "outputs": [
    {
     "name": "stdout",
     "output_type": "stream",
     "text": [
      "Last digit: 6\n"
     ]
    }
   ],
   "source": [
    "num = int(input(\"Enter number: \"))\n",
    "print(\"Last digit:\", num % 10)"
   ]
  },
  {
   "cell_type": "markdown",
   "id": "ef28beee",
   "metadata": {},
   "source": [
    "##### 7. Take values of length and breadth of a rectangle from user and print if it is square or rectangle."
   ]
  },
  {
   "cell_type": "code",
   "execution_count": 11,
   "id": "f9ebbb6f",
   "metadata": {},
   "outputs": [
    {
     "name": "stdout",
     "output_type": "stream",
     "text": [
      "Square\n"
     ]
    }
   ],
   "source": [
    "l = int(input(\"Enter length: \"))\n",
    "b = int(input(\"Enter breadth: \"))\n",
    "print(\"Square\" if l == b else \"Rectangle\")"
   ]
  },
  {
   "cell_type": "markdown",
   "id": "2cadbabe",
   "metadata": {},
   "source": [
    "##### 8. Take two int values from user and print greatest among them."
   ]
  },
  {
   "cell_type": "code",
   "execution_count": 12,
   "id": "0cdf9564",
   "metadata": {},
   "outputs": [
    {
     "name": "stdout",
     "output_type": "stream",
     "text": [
      "Greatest: 4\n"
     ]
    }
   ],
   "source": [
    "a = int(input(\"Enter first number: \"))\n",
    "b = int(input(\"Enter second number: \"))\n",
    "print(\"Greatest:\", a if a > b else b)"
   ]
  },
  {
   "cell_type": "markdown",
   "id": "99d8a9f5",
   "metadata": {},
   "source": [
    "##### 9. A shop will give discount of 10% if the cost of purchased quantity is more than 1000. Ask user for quantity Suppose, one unit will cost 100. Judge and print total cost for user."
   ]
  },
  {
   "cell_type": "code",
   "execution_count": 13,
   "id": "e82e3fcb",
   "metadata": {},
   "outputs": [
    {
     "name": "stdout",
     "output_type": "stream",
     "text": [
      "Total cost: 800\n"
     ]
    }
   ],
   "source": [
    "qty = int(input(\"Enter quantity: \"))\n",
    "cost = qty * 100\n",
    "if cost > 1000:\n",
    "    cost *= 0.9\n",
    "print(\"Total cost:\", cost)"
   ]
  },
  {
   "cell_type": "markdown",
   "id": "fb89ba89",
   "metadata": {},
   "source": [
    "##### 10. A school has following rules for grading system:\n",
    "- Below 25 - F\n",
    "- 25 to 45 - E\n",
    "- 45 to 50 - D\n",
    "- 50 to 60 - C\n",
    "- 60 to 80 - B\n",
    "- Above 80 - A"
   ]
  },
  {
   "cell_type": "code",
   "execution_count": 14,
   "id": "0706c2a1",
   "metadata": {},
   "outputs": [
    {
     "name": "stdout",
     "output_type": "stream",
     "text": [
      "Grade: F\n"
     ]
    }
   ],
   "source": [
    "marks = int(input(\"Enter marks: \"))\n",
    "if marks < 25:\n",
    "    grade = \"F\"\n",
    "elif marks <= 45:\n",
    "    grade = \"E\"\n",
    "elif marks <= 50:\n",
    "    grade = \"D\"\n",
    "elif marks <= 60:\n",
    "    grade = \"C\"\n",
    "elif marks <= 80:\n",
    "    grade = \"B\"\n",
    "else:\n",
    "    grade = \"A\"\n",
    "print(\"Grade:\", grade)"
   ]
  },
  {
   "cell_type": "markdown",
   "id": "791db232",
   "metadata": {},
   "source": [
    "##### 11. A student will not be allowed to sit in exam if his/her attendence is less than 75%."
   ]
  },
  {
   "cell_type": "code",
   "execution_count": 15,
   "id": "9a97a055",
   "metadata": {},
   "outputs": [
    {
     "name": "stdout",
     "output_type": "stream",
     "text": [
      "Attendance: 80.0 %\n",
      "Allowed to sit in exam\n"
     ]
    }
   ],
   "source": [
    "classes_held = int(input(\"Enter total classes held: \"))\n",
    "classes_attended = int(input(\"Enter total classes attended: \"))\n",
    "attendance = (classes_attended / classes_held) * 100\n",
    "print(\"Attendance:\", attendance, \"%\")\n",
    "if attendance >= 75:\n",
    "    print(\"Allowed to sit in exam\")\n",
    "else:\n",
    "    print(\"Not allowed\")"
   ]
  },
  {
   "cell_type": "markdown",
   "id": "2d3d9cd7",
   "metadata": {},
   "source": [
    "##### 12. Modify the above question to allow student to sit if he/she has medical cause."
   ]
  },
  {
   "cell_type": "code",
   "execution_count": 16,
   "id": "e90a127f",
   "metadata": {},
   "outputs": [
    {
     "name": "stdout",
     "output_type": "stream",
     "text": [
      "Allowed to sit in exam\n"
     ]
    }
   ],
   "source": [
    "classes_held = int(input(\"Enter total classes held: \"))\n",
    "classes_attended = int(input(\"Enter total classes attended: \"))\n",
    "attendance = (classes_attended / classes_held) * 100\n",
    "medical = input(\"Do you have medical cause? (Y/N): \").upper()\n",
    "if attendance >= 75 or medical == \"Y\":\n",
    "    print(\"Allowed to sit in exam\")\n",
    "else:\n",
    "    print(\"Not allowed\")"
   ]
  },
  {
   "cell_type": "markdown",
   "id": "f04d5e0e",
   "metadata": {},
   "source": [
    "##### 13. Write a program to check if a year is leap year or not."
   ]
  },
  {
   "cell_type": "code",
   "execution_count": 17,
   "id": "42a61a06",
   "metadata": {},
   "outputs": [
    {
     "name": "stdout",
     "output_type": "stream",
     "text": [
      "Not Leap Year\n"
     ]
    }
   ],
   "source": [
    "year = int(input(\"Enter year: \"))\n",
    "if (year % 400 == 0) or (year % 100 != 0 and year % 4 == 0):\n",
    "    print(\"Leap Year\")\n",
    "else:\n",
    "    print(\"Not Leap Year\")"
   ]
  },
  {
   "cell_type": "markdown",
   "id": "7254fe83",
   "metadata": {},
   "source": [
    "##### 14. Ask user to enter age, gender ( M or F ), marital status ( Y or N ) and then using following rules print their place of service."
   ]
  },
  {
   "cell_type": "code",
   "execution_count": 18,
   "id": "6b71e8d0",
   "metadata": {},
   "outputs": [
    {
     "name": "stdout",
     "output_type": "stream",
     "text": [
      "Can work anywhere\n"
     ]
    }
   ],
   "source": [
    "age = int(input(\"Enter age: \"))\n",
    "gender = input(\"Enter gender (M/F): \").upper()\n",
    "married = input(\"Married? (Y/N): \").upper()\n",
    "if gender == \"F\":\n",
    "    print(\"Urban areas only\")\n",
    "elif gender == \"M\" and 20 <= age <= 40:\n",
    "    print(\"Can work anywhere\")\n",
    "elif gender == \"M\" and 40 < age <= 60:\n",
    "    print(\"Urban areas only\")\n",
    "else:\n",
    "    print(\"ERROR\")"
   ]
  },
  {
   "cell_type": "markdown",
   "id": "6050fe3e",
   "metadata": {},
   "source": [
    "##### 15. Write a program to calculate the electricity bill."
   ]
  },
  {
   "cell_type": "code",
   "execution_count": 19,
   "id": "efdfce15",
   "metadata": {},
   "outputs": [
    {
     "name": "stdout",
     "output_type": "stream",
     "text": [
      "Bill: 0\n"
     ]
    }
   ],
   "source": [
    "units = int(input(\"Enter units consumed: \"))\n",
    "if units <= 100:\n",
    "    bill = 0\n",
    "elif units <= 300:\n",
    "    bill = (units - 100) * 5\n",
    "else:\n",
    "    bill = (200 * 5) + (units - 300) * 10\n",
    "print(\"Bill:\", bill)"
   ]
  },
  {
   "cell_type": "markdown",
   "id": "2f3d1001",
   "metadata": {},
   "source": [
    "##### 16. Take input of age of 3 people by user and determine oldest and youngest among them."
   ]
  },
  {
   "cell_type": "code",
   "execution_count": 20,
   "id": "35b23e9e",
   "metadata": {},
   "outputs": [
    {
     "name": "stdout",
     "output_type": "stream",
     "text": [
      "Oldest: 26\n",
      "Youngest: 21\n"
     ]
    }
   ],
   "source": [
    "a = int(input(\"Enter age of first person: \"))\n",
    "b = int(input(\"Enter age of second person: \"))\n",
    "c = int(input(\"Enter age of third person: \"))\n",
    "print(\"Oldest:\", max(a, b, c))\n",
    "print(\"Youngest:\", min(a, b, c))"
   ]
  }
 ],
 "metadata": {
  "kernelspec": {
   "display_name": "base",
   "language": "python",
   "name": "python3"
  },
  "language_info": {
   "codemirror_mode": {
    "name": "ipython",
    "version": 3
   },
   "file_extension": ".py",
   "mimetype": "text/x-python",
   "name": "python",
   "nbconvert_exporter": "python",
   "pygments_lexer": "ipython3",
   "version": "3.11.5"
  }
 },
 "nbformat": 4,
 "nbformat_minor": 5
}
