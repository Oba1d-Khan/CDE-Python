{
  "metadata": {
    "kernelspec": {
      "name": "python",
      "display_name": "Python (Pyodide)",
      "language": "python"
    },
    "language_info": {
      "codemirror_mode": {
        "name": "python",
        "version": 3
      },
      "file_extension": ".py",
      "mimetype": "text/x-python",
      "name": "python",
      "nbconvert_exporter": "python",
      "pygments_lexer": "ipython3",
      "version": "3.8"
    }
  },
  "nbformat_minor": 5,
  "nbformat": 4,
  "cells": [
    {
      "id": "7a56a984-c317-4a96-a0ef-8c4e7fbc6875",
      "cell_type": "markdown",
      "source": "#### Write a Python program to create a class representing a Circle. Include methods to calculate its area and perimeter.",
      "metadata": {}
    },
    {
      "id": "232e647f-7a51-4381-915a-435c92b946ce",
      "cell_type": "code",
      "source": "import math\n\nclass Circle:\n    def __init__(self, radius):\n        self.radius = radius\n\n    def area(self):\n        return math.pi * self.radius ** 2\n\n    def perimeter(self):\n        return 2 * math.pi * self.radius\n\n\nc = Circle(5)\nprint(\"Area:\", c.area())\nprint(\"Perimeter:\", c.perimeter())\n",
      "metadata": {
        "trusted": true
      },
      "outputs": [
        {
          "name": "stdout",
          "output_type": "stream",
          "text": "Area: 78.53981633974483\nPerimeter: 31.41592653589793\n"
        }
      ],
      "execution_count": 3
    },
    {
      "id": "a104b47a-7305-40ae-b5bd-d114249d2b9c",
      "cell_type": "markdown",
      "source": "#### Write a Python program to create a person class. Include attributes like name, country and date of birth. Implement a method to determine the person's age.",
      "metadata": {}
    },
    {
      "id": "173d15b1-83ec-45a6-8301-7102ebbe9013",
      "cell_type": "code",
      "source": "from datetime import date\n\nclass Person:\n    def __init__(self, name, country, birth_year):\n        self.name = name\n        self.country = country\n        self.birth_year = birth_year\n\n    def calculate_age(self):\n        current_year = date.today().year\n        return current_year - self.birth_year\n\n\np = Person(\"Obaid\", \"Pakistan\", 1920)\nprint(\"Name:\", p.name)\nprint(\"Country:\", p.country)\nprint(\"Age:\", p.calculate_age())\n",
      "metadata": {
        "trusted": true
      },
      "outputs": [
        {
          "name": "stdout",
          "output_type": "stream",
          "text": "Name: Obaid\nCountry: Pakistan\nAge: 105\n"
        }
      ],
      "execution_count": 2
    },
    {
      "id": "fc0fd4f8-e010-41bf-b832-d05129b17945",
      "cell_type": "markdown",
      "source": "#### Write a Python program to create a calculator class. Include methods for basic arithmetic operations.",
      "metadata": {}
    },
    {
      "id": "169f57df-680e-466c-b059-6191a271ce87",
      "cell_type": "code",
      "source": "class Calculator:\n    def add(self, a, b):\n        return a + b\n\n    def subtract(self, a, b):\n        return a - b\n\n    def multiply(self, a, b):\n        return a * b\n\n    def divide(self, a, b):\n        if b == 0:\n            return \"Cannot divide by zero\"\n        return a / b\n\n\ncalc = Calculator()\nprint(\"Add:\", calc.add(5, 3))\nprint(\"Subtract:\", calc.subtract(5, 3))\nprint(\"Multiply:\", calc.multiply(5, 3))\nprint(\"Divide:\", calc.divide(5, 3))\n",
      "metadata": {
        "trusted": true
      },
      "outputs": [
        {
          "name": "stdout",
          "output_type": "stream",
          "text": "Add: 8\nSubtract: 2\nMultiply: 15\nDivide: 1.6666666666666667\n"
        }
      ],
      "execution_count": 1
    },
    {
      "id": "0b39484a-616f-4ba6-b2ad-40105c566442",
      "cell_type": "code",
      "source": "",
      "metadata": {
        "trusted": true
      },
      "outputs": [],
      "execution_count": null
    }
  ]
}