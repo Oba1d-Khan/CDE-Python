{
 "cells": [
  {
   "cell_type": "code",
   "execution_count": null,
   "id": "12d630fd",
   "metadata": {},
   "outputs": [
    {
     "name": "stdout",
     "output_type": "stream",
     "text": [
      "['a', 'a', 'b', 'c', 'd']\n"
     ]
    }
   ],
   "source": [
    "letters = [\"b\", \"a\", \"d\", \"c\", \"a\"]\n",
    "letters.sort()  # modifies the original\n",
    "print(letters)"
   ]
  },
  {
   "cell_type": "code",
   "execution_count": null,
   "id": "f71a13be",
   "metadata": {},
   "outputs": [
    {
     "name": "stdout",
     "output_type": "stream",
     "text": [
      "['a', 'a', 'b', 'c', 'd']\n"
     ]
    }
   ],
   "source": [
    "letters = [\"b\", \"a\", \"d\", \"c\", \"a\"]\n",
    "print(sorted(letters))  # doesnt change the orignal and returns a new copy"
   ]
  },
  {
   "cell_type": "code",
   "execution_count": 26,
   "id": "186ed3f0",
   "metadata": {},
   "outputs": [
    {
     "name": "stdout",
     "output_type": "stream",
     "text": [
      "[5, 2, 8, 5, 1, 9, 2, 7, 10, 11]\n"
     ]
    }
   ],
   "source": [
    "nums = [5, 2, 8, 5, 1, 9, 2]\n",
    "\n",
    "nums.append(7)\n",
    "nums.extend([10,11])\n",
    "print(nums)"
   ]
  },
  {
   "cell_type": "code",
   "execution_count": null,
   "id": "ee64d251",
   "metadata": {},
   "outputs": [
    {
     "name": "stdout",
     "output_type": "stream",
     "text": [
      "[2, 8, 5, 1, 9, 2, 7, 10, 11]\n"
     ]
    }
   ],
   "source": [
    "# removing the first occurence of 5\n",
    "nums.remove(5)\n",
    "print(nums)   # .remove deletes the first occurence of given value. ValueError"
   ]
  },
  {
   "cell_type": "code",
   "execution_count": 15,
   "id": "93a75270",
   "metadata": {},
   "outputs": [
    {
     "name": "stdout",
     "output_type": "stream",
     "text": [
      "[5, 2, 8, 5, 1, 9, 2, 7, 10]\n",
      "10\n"
     ]
    }
   ],
   "source": [
    "last_num = nums.pop()\n",
    "print(nums)\n",
    "# nums.pop()   #.pop removes and return, gives IndexError\n",
    "print(nums.pop())"
   ]
  },
  {
   "cell_type": "code",
   "execution_count": 21,
   "id": "3889cdc6",
   "metadata": {},
   "outputs": [
    {
     "name": "stdout",
     "output_type": "stream",
     "text": [
      "2\n",
      "5\n"
     ]
    }
   ],
   "source": [
    "print(nums.count(2))\n",
    "print(nums.index(9))"
   ]
  },
  {
   "cell_type": "code",
   "execution_count": 27,
   "id": "b45f6630",
   "metadata": {},
   "outputs": [
    {
     "name": "stdout",
     "output_type": "stream",
     "text": [
      "[5, 2, 8, 5, 1, 9, 2, 7, 10, 11]\n"
     ]
    }
   ],
   "source": [
    "print(nums)"
   ]
  },
  {
   "cell_type": "code",
   "execution_count": 36,
   "id": "2c3d5bde",
   "metadata": {},
   "outputs": [
    {
     "name": "stdout",
     "output_type": "stream",
     "text": [
      "[1, 2, 2, 5, 5, 7, 8, 9, 10, 11]\n"
     ]
    }
   ],
   "source": [
    "nums.sort()  # sorts the original array\n",
    "print(nums)"
   ]
  },
  {
   "cell_type": "code",
   "execution_count": 35,
   "id": "53d9cf01",
   "metadata": {},
   "outputs": [
    {
     "name": "stdout",
     "output_type": "stream",
     "text": [
      "[1, 2, 2, 5, 5, 7, 8, 9, 10, 11]\n"
     ]
    }
   ],
   "source": [
    "print(sorted(nums)) # returns a new sorted arrays"
   ]
  },
  {
   "cell_type": "code",
   "execution_count": null,
   "id": "8d9aac22",
   "metadata": {},
   "outputs": [
    {
     "name": "stdout",
     "output_type": "stream",
     "text": [
      "[11, 10, 7, 2, 9, 1, 5, 8, 2, 5]\n",
      "[5, 2, 8, 5, 1, 9, 2, 7, 10, 11]\n"
     ]
    }
   ],
   "source": [
    "print(nums[::-1]) # doesnt change the original array\n",
    "print(nums)"
   ]
  },
  {
   "cell_type": "code",
   "execution_count": null,
   "id": "c8eeeae5",
   "metadata": {},
   "outputs": [
    {
     "name": "stdout",
     "output_type": "stream",
     "text": [
      "[11, 10, 9, 8, 7, 5, 5, 2, 2, 1]\n"
     ]
    }
   ],
   "source": [
    "nums.sort(reverse=True) # sorts the original array\n",
    "print(nums)"
   ]
  },
  {
   "cell_type": "code",
   "execution_count": 39,
   "id": "9087752c",
   "metadata": {},
   "outputs": [
    {
     "name": "stdout",
     "output_type": "stream",
     "text": [
      "[11, 10, 9, 8, 7, 5, 5, 2, 2, 1]\n"
     ]
    }
   ],
   "source": [
    "print(nums)"
   ]
  },
  {
   "cell_type": "markdown",
   "id": "2d4d7289",
   "metadata": {},
   "source": [
    "### slicing"
   ]
  },
  {
   "cell_type": "code",
   "execution_count": 5,
   "id": "77112ffb",
   "metadata": {},
   "outputs": [
    {
     "name": "stdout",
     "output_type": "stream",
     "text": [
      "[1, 99, 4]\n"
     ]
    }
   ],
   "source": [
    "nums = [1, 2, 3, 4]\n",
    "nums[1:3] = [99]\n",
    "print(nums)\n"
   ]
  },
  {
   "cell_type": "code",
   "execution_count": 18,
   "id": "bda46f81",
   "metadata": {},
   "outputs": [
    {
     "name": "stdout",
     "output_type": "stream",
     "text": [
      "[1, 2, 3, 4, 5, 6, 7]\n"
     ]
    }
   ],
   "source": [
    "duplicate_ids = [1,2,3,4,4,5,6,6,7]\n",
    "proper_ids = []\n",
    "[proper_ids.append(id) for id in duplicate_ids if id not in proper_ids]\n",
    "print(proper_ids)"
   ]
  },
  {
   "cell_type": "code",
   "execution_count": null,
   "id": "34057081",
   "metadata": {},
   "outputs": [],
   "source": []
  }
 ],
 "metadata": {
  "kernelspec": {
   "display_name": "base",
   "language": "python",
   "name": "python3"
  },
  "language_info": {
   "codemirror_mode": {
    "name": "ipython",
    "version": 3
   },
   "file_extension": ".py",
   "mimetype": "text/x-python",
   "name": "python",
   "nbconvert_exporter": "python",
   "pygments_lexer": "ipython3",
   "version": "3.11.5"
  }
 },
 "nbformat": 4,
 "nbformat_minor": 5
}
