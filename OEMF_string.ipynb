{
 "cells": [
  {
   "cell_type": "code",
   "execution_count": 60,
   "id": "273d01f9",
   "metadata": {},
   "outputs": [
    {
     "name": "stdout",
     "output_type": "stream",
     "text": [
      "python is fun\n",
      "Python is Awesome\n",
      "['Python', 'is', 'Fun']\n",
      "Python is Fun\n",
      "['Python', 'is', 'Fun']\n",
      "Python_is_Fun\n",
      "Python Is Fun\n",
      "Python is fun\n",
      "==================Python is Fun===================\n",
      "Python is Fu\n",
      "Python is Fun\n"
     ]
    }
   ],
   "source": [
    "text = \"Python is Fun\"\n",
    "print(text.lower())\n",
    "print(text.replace(\"Fun\",\"Awesome\"))\n",
    "words = text.split()\n",
    "print(text.split())\n",
    "print(*words) # spread the words from list\n",
    "\n",
    "print(words)\n",
    "print(\"_\".join(words))\n",
    "\n",
    "\n",
    "print(text.title())\n",
    "print(text.capitalize())\n",
    "print(text.center(50,\"=\"))\n",
    "\n",
    "print(text.strip(\"n\"))\n",
    "print(text.strip(\" \"))"
   ]
  }
 ],
 "metadata": {
  "kernelspec": {
   "display_name": "base",
   "language": "python",
   "name": "python3"
  },
  "language_info": {
   "codemirror_mode": {
    "name": "ipython",
    "version": 3
   },
   "file_extension": ".py",
   "mimetype": "text/x-python",
   "name": "python",
   "nbconvert_exporter": "python",
   "pygments_lexer": "ipython3",
   "version": "3.11.5"
  }
 },
 "nbformat": 4,
 "nbformat_minor": 5
}
