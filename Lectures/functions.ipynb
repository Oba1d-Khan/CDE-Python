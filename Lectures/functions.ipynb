{
 "cells": [
  {
   "cell_type": "code",
   "execution_count": 8,
   "id": "2446ad54",
   "metadata": {},
   "outputs": [],
   "source": [
    "def add_num(name = \"Qasim\" , num1 = 0, num2 = 10):\n",
    "    print(name , num1 , num2)\n"
   ]
  },
  {
   "cell_type": "code",
   "execution_count": 10,
   "id": "bbfa0d51",
   "metadata": {},
   "outputs": [
    {
     "name": "stdout",
     "output_type": "stream",
     "text": [
      "Obaid 12 22\n"
     ]
    }
   ],
   "source": [
    "add_num(name=\"Obaid\" , num1 = 12 , num2=22)"
   ]
  },
  {
   "cell_type": "code",
   "execution_count": 11,
   "id": "c5e19d33",
   "metadata": {},
   "outputs": [],
   "source": [
    "def add(name,*nums):\n",
    "    print(name,*nums)"
   ]
  },
  {
   "cell_type": "code",
   "execution_count": 12,
   "id": "f0453402",
   "metadata": {},
   "outputs": [
    {
     "name": "stdout",
     "output_type": "stream",
     "text": [
      "Obaid 2 3 4 5 6 7\n"
     ]
    }
   ],
   "source": [
    "add(\"Obaid\",2,3,4,5,6,7)"
   ]
  },
  {
   "cell_type": "code",
   "execution_count": 13,
   "id": "98ba7420",
   "metadata": {},
   "outputs": [],
   "source": [
    "def add2(name , **nums):\n",
    "    print(name, **nums)"
   ]
  },
  {
   "cell_type": "code",
   "execution_count": 17,
   "id": "513c1d35",
   "metadata": {},
   "outputs": [
    {
     "ename": "TypeError",
     "evalue": "add2() takes 1 positional argument but 6 were given",
     "output_type": "error",
     "traceback": [
      "\u001b[1;31m---------------------------------------------------------------------------\u001b[0m",
      "\u001b[1;31mTypeError\u001b[0m                                 Traceback (most recent call last)",
      "Cell \u001b[1;32mIn[17], line 1\u001b[0m\n\u001b[1;32m----> 1\u001b[0m \u001b[43madd2\u001b[49m\u001b[43m(\u001b[49m\u001b[38;5;124;43m\"\u001b[39;49m\u001b[38;5;124;43mObaidd\u001b[39;49m\u001b[38;5;124;43m\"\u001b[39;49m\u001b[43m,\u001b[49m\u001b[38;5;241;43m2\u001b[39;49m\u001b[43m,\u001b[49m\u001b[38;5;241;43m3\u001b[39;49m\u001b[43m,\u001b[49m\u001b[38;5;241;43m4\u001b[39;49m\u001b[43m,\u001b[49m\u001b[38;5;241;43m5\u001b[39;49m\u001b[43m,\u001b[49m\u001b[38;5;241;43m6\u001b[39;49m\u001b[43m)\u001b[49m\n",
      "\u001b[1;31mTypeError\u001b[0m: add2() takes 1 positional argument but 6 were given"
     ]
    }
   ],
   "source": [
    "add2(\"Obaidd\",2,3,4,5,6)"
   ]
  },
  {
   "cell_type": "markdown",
   "id": "2118e283",
   "metadata": {},
   "source": [
    "### Tasks\n",
    "\n",
    "1. Give the sum of the values passed as unknowns args to functions *args*\n",
    "2. Give the sum of the values passed as unknowns args to function *kwargs*  "
   ]
  },
  {
   "cell_type": "code",
   "execution_count": 37,
   "id": "f0ac9e97",
   "metadata": {},
   "outputs": [],
   "source": [
    " # 1\n",
    "\n",
    "def sumArgs(*args):\n",
    "    sum = 0\n",
    "    for i in args:\n",
    "        sum += i\n",
    "    print(f\"{sum}\")"
   ]
  },
  {
   "cell_type": "code",
   "execution_count": 38,
   "id": "18b6b3bb",
   "metadata": {},
   "outputs": [
    {
     "name": "stdout",
     "output_type": "stream",
     "text": [
      "2\n"
     ]
    }
   ],
   "source": [
    "sumArgs(2,)"
   ]
  },
  {
   "cell_type": "code",
   "execution_count": 39,
   "id": "f4a0bd92",
   "metadata": {},
   "outputs": [],
   "source": [
    "# or \n",
    "\n",
    "def sumArgs(*args):\n",
    "    print(f\"{sum(args)}\")"
   ]
  },
  {
   "cell_type": "code",
   "execution_count": 40,
   "id": "4f3af39e",
   "metadata": {},
   "outputs": [
    {
     "name": "stdout",
     "output_type": "stream",
     "text": [
      "10\n"
     ]
    }
   ],
   "source": [
    "sumArgs(3,3,3,1)\n"
   ]
  },
  {
   "cell_type": "code",
   "execution_count": 58,
   "id": "0fe1d5f3",
   "metadata": {},
   "outputs": [],
   "source": [
    "# 2\n",
    "\n",
    "def sumKwargs(**kwargs):\n",
    "    print(f\"{sum((kwargs.values()))}\")"
   ]
  },
  {
   "cell_type": "code",
   "execution_count": 59,
   "id": "a77d42de",
   "metadata": {},
   "outputs": [
    {
     "name": "stdout",
     "output_type": "stream",
     "text": [
      "6\n"
     ]
    }
   ],
   "source": [
    "sumKwargs(num1=1,num2=2,num3=3)"
   ]
  },
  {
   "cell_type": "code",
   "execution_count": 77,
   "id": "510ca905",
   "metadata": {},
   "outputs": [
    {
     "name": "stdout",
     "output_type": "stream",
     "text": [
      "720\n"
     ]
    }
   ],
   "source": [
    "n = int(input(\"Enter a num: \"))\n",
    "factorial = 1\n",
    "while(n > 0):\n",
    "    factorial = factorial * n\n",
    "    n = n - 1\n",
    "\n",
    "print(factorial)"
   ]
  }
 ],
 "metadata": {
  "kernelspec": {
   "display_name": "base",
   "language": "python",
   "name": "python3"
  },
  "language_info": {
   "codemirror_mode": {
    "name": "ipython",
    "version": 3
   },
   "file_extension": ".py",
   "mimetype": "text/x-python",
   "name": "python",
   "nbconvert_exporter": "python",
   "pygments_lexer": "ipython3",
   "version": "3.11.5"
  }
 },
 "nbformat": 4,
 "nbformat_minor": 5
}
