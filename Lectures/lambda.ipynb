{
 "cells": [
  {
   "cell_type": "code",
   "execution_count": null,
   "id": "f75d2954",
   "metadata": {},
   "outputs": [
    {
     "name": "stdout",
     "output_type": "stream",
     "text": [
      "hello\n"
     ]
    }
   ],
   "source": [
    "# za.detail([\"Ali\",\"DE\",\"WEB\"])\n"
   ]
  },
  {
   "cell_type": "code",
   "execution_count": null,
   "id": "ca6de6ba",
   "metadata": {},
   "outputs": [],
   "source": [
    "class Car(): \n",
    "     \n",
    "\n",
    "    def __init__(self,color,model,doors):\n",
    "        self.color = color\n",
    "        self.model = model\n",
    "        self.door = doors\n",
    "\n",
    "    "
   ]
  }
 ],
 "metadata": {
  "kernelspec": {
   "display_name": "Python 3",
   "language": "python",
   "name": "python3"
  },
  "language_info": {
   "codemirror_mode": {
    "name": "ipython",
    "version": 3
   },
   "file_extension": ".py",
   "mimetype": "text/x-python",
   "name": "python",
   "nbconvert_exporter": "python",
   "pygments_lexer": "ipython3",
   "version": "3.11.5"
  }
 },
 "nbformat": 4,
 "nbformat_minor": 5
}
