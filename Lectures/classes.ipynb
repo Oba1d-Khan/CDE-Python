{
 "cells": [
  {
   "cell_type": "markdown",
   "id": "39c3a9b4",
   "metadata": {},
   "source": [
    "### Task\n",
    "\n",
    "Create a class of humans that have atleasy 2 attributes and methods"
   ]
  },
  {
   "cell_type": "code",
   "execution_count": null,
   "id": "90539420",
   "metadata": {},
   "outputs": [],
   "source": [
    "class BankAccount():\n",
    "\n",
    "    o\n",
    "\n",
    "    def __init__(self,owner,balance):\n",
    "        self.owner = owner\n",
    "        self.balance = balance\n",
    "\n",
    "    def deposit(self,amount):\n",
    "        print({f\"Amount {amount} deposited! by {self.owner}\"})\n",
    "\n",
    "    def withdrawal(self,amount):\n",
    "        print({f\"Amount {amount} withdrawaled! by {self.owner}\"})"
   ]
  },
  {
   "cell_type": "code",
   "execution_count": 7,
   "id": "55998092",
   "metadata": {},
   "outputs": [
    {
     "ename": "TypeError",
     "evalue": "BankAccount.__init__() missing 2 required positional arguments: 'owner' and 'balance'",
     "output_type": "error",
     "traceback": [
      "\u001b[1;31m---------------------------------------------------------------------------\u001b[0m",
      "\u001b[1;31mTypeError\u001b[0m                                 Traceback (most recent call last)",
      "Cell \u001b[1;32mIn[7], line 1\u001b[0m\n\u001b[1;32m----> 1\u001b[0m myAccount \u001b[38;5;241m=\u001b[39m \u001b[43mBankAccount\u001b[49m\u001b[43m(\u001b[49m\u001b[43m)\u001b[49m\n\u001b[0;32m      3\u001b[0m myAccount\u001b[38;5;241m.\u001b[39mdeposit(\u001b[38;5;241m2000\u001b[39m)\n",
      "\u001b[1;31mTypeError\u001b[0m: BankAccount.__init__() missing 2 required positional arguments: 'owner' and 'balance'"
     ]
    }
   ],
   "source": [
    "myAccount = BankAccount()\n",
    "\n",
    "myAccount.deposit(2000)"
   ]
  }
 ],
 "metadata": {
  "kernelspec": {
   "display_name": "base",
   "language": "python",
   "name": "python3"
  },
  "language_info": {
   "codemirror_mode": {
    "name": "ipython",
    "version": 3
   },
   "file_extension": ".py",
   "mimetype": "text/x-python",
   "name": "python",
   "nbconvert_exporter": "python",
   "pygments_lexer": "ipython3",
   "version": "3.11.5"
  }
 },
 "nbformat": 4,
 "nbformat_minor": 5
}
