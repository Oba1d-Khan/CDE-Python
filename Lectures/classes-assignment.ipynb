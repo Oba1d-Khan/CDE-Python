{
 "cells": [
  {
   "cell_type": "markdown",
   "id": "65b6d5da",
   "metadata": {},
   "source": [
    "01 - Write a Python program to create a class representing a Circle. Include methods to calculate its area and perimeter."
   ]
  },
  {
   "cell_type": "code",
   "execution_count": 7,
   "id": "1b32fd53",
   "metadata": {},
   "outputs": [],
   "source": [
    "class Circle:\n",
    "    # pi = 3.142\n",
    "    # radius = 10\n",
    "\n",
    "    def __init__(self,pi,radius):\n",
    "        self.pi = pi,\n",
    "        self.radius = radius\n",
    "\n",
    "    def area(self,pi,radius):\n",
    "        return pi * (radius**2)\n",
    "    \n",
    "    def perimeter(self,pi,radius):\n",
    "        return 2 * pi * radius"
   ]
  },
  {
   "cell_type": "code",
   "execution_count": 11,
   "id": "42dc3e7c",
   "metadata": {},
   "outputs": [
    {
     "name": "stdout",
     "output_type": "stream",
     "text": [
      "Area: 1256.8, Perimeter: 188.51999999999998\n"
     ]
    }
   ],
   "source": [
    "c = Circle(3.142,10)\n",
    "area1 = c.area(3.142, 20)\n",
    "peri1 = c.perimeter(3.142,30)\n",
    "print(f\"Area: {area1}, Perimeter: {peri1}\")"
   ]
  },
  {
   "cell_type": "markdown",
   "id": "14ad32ca",
   "metadata": {},
   "source": [
    "2. Write a Python program to create a person class. Include attributes like name, country and date of birth. Implement a method to determine the person's age."
   ]
  },
  {
   "cell_type": "code",
   "execution_count": 52,
   "id": "52338cf6",
   "metadata": {},
   "outputs": [],
   "source": [
    "import datetime\n",
    "class Person:\n",
    "    def __init__(self,name,country,DOB):\n",
    "        self.name = name\n",
    "        self.country = country\n",
    "        self.DOB = DOB\n",
    "\n",
    "    def getAge(self,name,DOB):\n",
    "        age =  (datetime.date.today().year) -  DOB\n",
    "        return f\"Age of {name} is {age}\""
   ]
  },
  {
   "cell_type": "code",
   "execution_count": 53,
   "id": "f1af70e7",
   "metadata": {},
   "outputs": [
    {
     "name": "stdout",
     "output_type": "stream",
     "text": [
      "Age of Ali is 25\n"
     ]
    }
   ],
   "source": [
    "p1 = Person(\"Obaid\",\"Pakistan\",1990)\n",
    "\n",
    "print(p1.getAge(\"Ali\",2000))"
   ]
  },
  {
   "cell_type": "markdown",
   "id": "ae3b2896",
   "metadata": {},
   "source": [
    "3. Write a Python program to create a calculator class. Include methods for basic arithmetic operations."
   ]
  },
  {
   "cell_type": "code",
   "execution_count": null,
   "id": "3d98b6bf",
   "metadata": {},
   "outputs": [],
   "source": [
    "class Calculator:\n",
    "    "
   ]
  }
 ],
 "metadata": {
  "kernelspec": {
   "display_name": "base",
   "language": "python",
   "name": "python3"
  },
  "language_info": {
   "codemirror_mode": {
    "name": "ipython",
    "version": 3
   },
   "file_extension": ".py",
   "mimetype": "text/x-python",
   "name": "python",
   "nbconvert_exporter": "python",
   "pygments_lexer": "ipython3",
   "version": "3.11.5"
  }
 },
 "nbformat": 4,
 "nbformat_minor": 5
}
