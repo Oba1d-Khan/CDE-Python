{
 "cells": [
  {
   "cell_type": "markdown",
   "id": "a6f82936",
   "metadata": {},
   "source": [
    "CSV Handling"
   ]
  },
  {
   "cell_type": "code",
   "execution_count": 19,
   "id": "2c7d0923",
   "metadata": {},
   "outputs": [],
   "source": [
    "import csv"
   ]
  },
  {
   "cell_type": "code",
   "execution_count": 20,
   "id": "1300d131",
   "metadata": {},
   "outputs": [],
   "source": [
    "data = [\n",
    "    ['name', 'age', 'city'],\n",
    "    ['John', 23, 'New York'],\n",
    "    ['Alice', 29, 'Los Angeles'],\n",
    "    ['Bob', 35, 'Chicago']\n",
    "]"
   ]
  },
  {
   "cell_type": "code",
   "execution_count": 22,
   "id": "b5f173fe",
   "metadata": {},
   "outputs": [],
   "source": [
    "with open('./data.csv', 'w', newline='') as file:\n",
    "    writer = csv.writer(file)\n",
    "    writer.writerows(data)"
   ]
  },
  {
   "cell_type": "markdown",
   "id": "129fa33d",
   "metadata": {},
   "source": [
    "JSON Handling"
   ]
  },
  {
   "cell_type": "code",
   "execution_count": null,
   "id": "2ffefcda",
   "metadata": {},
   "outputs": [],
   "source": [
    "import json"
   ]
  },
  {
   "cell_type": "code",
   "execution_count": null,
   "id": "8cbbffc5",
   "metadata": {},
   "outputs": [],
   "source": [
    "with open('./paylaod.json' , 'w') as f:\n",
    "    writer = json.dumps()"
   ]
  }
 ],
 "metadata": {
  "kernelspec": {
   "display_name": "base",
   "language": "python",
   "name": "python3"
  },
  "language_info": {
   "codemirror_mode": {
    "name": "ipython",
    "version": 3
   },
   "file_extension": ".py",
   "mimetype": "text/x-python",
   "name": "python",
   "nbconvert_exporter": "python",
   "pygments_lexer": "ipython3",
   "version": "3.11.5"
  }
 },
 "nbformat": 4,
 "nbformat_minor": 5
}
