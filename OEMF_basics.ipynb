{
 "cells": [
  {
   "cell_type": "markdown",
   "id": "97953275",
   "metadata": {},
   "source": [
    "variable namings"
   ]
  },
  {
   "cell_type": "code",
   "execution_count": null,
   "id": "c8fd0f12",
   "metadata": {},
   "outputs": [
    {
     "name": "stdout",
     "output_type": "stream",
     "text": [
      "10\n"
     ]
    }
   ],
   "source": [
    "__this___is__some__fuckin__rubbish____ = 10\n",
    "\n",
    "print(__this___is__some__fuckin__rubbish____)"
   ]
  },
  {
   "cell_type": "code",
   "execution_count": null,
   "id": "64da8397",
   "metadata": {},
   "outputs": [
    {
     "name": "stdout",
     "output_type": "stream",
     "text": [
      "20\n",
      "20\n",
      "20\n",
      "123\n",
      "200\n"
     ]
    }
   ],
   "source": [
    "age = 20\n",
    "Age=20\n",
    "AGE=20\n",
    "print(age)\n",
    "print(Age)\n",
    "print(AGE)\n",
    "\n",
    "average123 = 123\n",
    "print(average123)\n",
    "\n",
    "# True = False\n",
    "# print(True)\n",
    "\n",
    "# my-score = 56\n",
    "# print(my-score)\n",
    "\n",
    "_speed = 200\n",
    "print(_speed)\n",
    "\n",
    "# 2abc = abc"
   ]
  },
  {
   "cell_type": "markdown",
   "id": "335c605f",
   "metadata": {},
   "source": [
    "operators"
   ]
  },
  {
   "cell_type": "code",
   "execution_count": null,
   "id": "4070b1e7",
   "metadata": {},
   "outputs": [
    {
     "name": "stdout",
     "output_type": "stream",
     "text": [
      "2.5\n",
      "2\n"
     ]
    }
   ],
   "source": [
    "a = 10\n",
    "b = 25\n",
    "\n",
    "print(b / a)\n",
    "print(b // a)\n"
   ]
  },
  {
   "cell_type": "code",
   "execution_count": 46,
   "id": "27097884",
   "metadata": {},
   "outputs": [
    {
     "name": "stdout",
     "output_type": "stream",
     "text": [
      "5\n"
     ]
    }
   ],
   "source": [
    "a = 20\n",
    "b = 45\n",
    "print( b % a)"
   ]
  },
  {
   "cell_type": "code",
   "execution_count": 52,
   "id": "d97ca773",
   "metadata": {},
   "outputs": [
    {
     "name": "stdout",
     "output_type": "stream",
     "text": [
      "81\n"
     ]
    }
   ],
   "source": [
    "print(9 ** 2)"
   ]
  },
  {
   "cell_type": "markdown",
   "id": "a775ac3a",
   "metadata": {},
   "source": [
    "String concatenation with different methods"
   ]
  },
  {
   "cell_type": "code",
   "execution_count": 60,
   "id": "8ed83124",
   "metadata": {},
   "outputs": [
    {
     "name": "stdout",
     "output_type": "stream",
     "text": [
      "The fruitapplecosts120ruppees\n",
      "The fruit apple costs 120 ruppees.\n",
      "The fruit apple costs 120 ruppess\n",
      "The fruit apple costs 120 ruppess\n",
      "The fruit apple costs 120 ruppess\n"
     ]
    }
   ],
   "source": [
    "fruit = \"apple\"\n",
    "price = 120\n",
    "\n",
    "print(\"The fruit\" + fruit + \"costs\" + str(price) + \"ruppees\")\n",
    "print(f\"The fruit {fruit} costs {price} ruppees.\")\n",
    "print(\"The fruit {} costs {} ruppess\".format(fruit,price))\n",
    "print(\"The fruit {1} costs {0} ruppess\".format(price,fruit))\n",
    "print(\"The fruit {f} costs {p} ruppess\".format(p=price,f=fruit))"
   ]
  },
  {
   "cell_type": "code",
   "execution_count": null,
   "id": "b14f4616",
   "metadata": {},
   "outputs": [
    {
     "data": {
      "text/plain": [
       "False"
      ]
     },
     "execution_count": 3,
     "metadata": {},
     "output_type": "execute_result"
    }
   ],
   "source": [
    "text = \"python\"\n",
    "\"p\" in text\n",
    "\"z\" in text"
   ]
  },
  {
   "cell_type": "code",
   "execution_count": 9,
   "id": "47e492da",
   "metadata": {},
   "outputs": [
    {
     "data": {
      "text/plain": [
       "True"
      ]
     },
     "execution_count": 9,
     "metadata": {},
     "output_type": "execute_result"
    }
   ],
   "source": [
    "digits = [1,2,3,4,5]\n",
    "0 not in digits"
   ]
  }
 ],
 "metadata": {
  "kernelspec": {
   "display_name": "base",
   "language": "python",
   "name": "python3"
  },
  "language_info": {
   "codemirror_mode": {
    "name": "ipython",
    "version": 3
   },
   "file_extension": ".py",
   "mimetype": "text/x-python",
   "name": "python",
   "nbconvert_exporter": "python",
   "pygments_lexer": "ipython3",
   "version": "3.11.5"
  }
 },
 "nbformat": 4,
 "nbformat_minor": 5
}
