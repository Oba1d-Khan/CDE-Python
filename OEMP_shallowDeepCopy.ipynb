{
 "cells": [
  {
   "cell_type": "code",
   "execution_count": 3,
   "id": "e8dede23",
   "metadata": {},
   "outputs": [
    {
     "name": "stdout",
     "output_type": "stream",
     "text": [
      "[1, 2, [3, [4]], 5]\n",
      "3113612940032\n",
      "3113612871232\n"
     ]
    }
   ],
   "source": [
    "data = [1,2,[3,[4]],5]\n",
    "nums_copy = data[:]\n",
    "print(nums_copy)\n",
    "print(id(data))\n",
    "print(id(nums_copy))"
   ]
  },
  {
   "cell_type": "code",
   "execution_count": 21,
   "id": "07c4a087",
   "metadata": {},
   "outputs": [
    {
     "name": "stdout",
     "output_type": "stream",
     "text": [
      "data    : [1, 2, [3, 44], 5]\n",
      "nums_copy [1, 2, [3, 44], 5]\n",
      "[1, 2, [3, 44], 5]\n"
     ]
    }
   ],
   "source": [
    "print(\"data    :\",data)\n",
    "print(\"nums_copy\" , nums_copy)\n",
    "\n",
    "nums_copy[2][1] = 44\n",
    "\n",
    "print(data)"
   ]
  },
  {
   "cell_type": "code",
   "execution_count": null,
   "id": "e4d7275c",
   "metadata": {},
   "outputs": [
    {
     "name": "stdout",
     "output_type": "stream",
     "text": [
      "[['Ali', 90], ['Sara', 95], ['Omar', 88]]\n",
      "[['Ali', 90], ['Sara', 85], ['Omar', 88]]\n"
     ]
    }
   ],
   "source": [
    "import copy\n",
    "\n",
    "students = [[\"Ali\", 90], [\"Sara\", 85], [\"Omar\", 88]]\n",
    "\n",
    "students_deep = copy.deepcopy(students)\n",
    "students_deep[1][1] = 95\n",
    "print(students_deep)\n",
    "\n",
    "print(students)"
   ]
  },
  {
   "cell_type": "code",
   "execution_count": null,
   "id": "17942cb5",
   "metadata": {},
   "outputs": [
    {
     "name": "stdout",
     "output_type": "stream",
     "text": [
      "[10, 20, [30, [40, 500]], 60]\n",
      "[10, 20, [30, [40, 500]], 60]\n"
     ]
    }
   ],
   "source": [
    "count = [10,20,[30,[40,50]],60]\n",
    "count2 = count\n",
    "\n",
    "count2[2][1][1] = 500\n",
    "print(count2)\n",
    "print(count)"
   ]
  }
 ],
 "metadata": {
  "kernelspec": {
   "display_name": "base",
   "language": "python",
   "name": "python3"
  },
  "language_info": {
   "codemirror_mode": {
    "name": "ipython",
    "version": 3
   },
   "file_extension": ".py",
   "mimetype": "text/x-python",
   "name": "python",
   "nbconvert_exporter": "python",
   "pygments_lexer": "ipython3",
   "version": "3.11.5"
  }
 },
 "nbformat": 4,
 "nbformat_minor": 5
}
