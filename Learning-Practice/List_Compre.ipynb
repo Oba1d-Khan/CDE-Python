{
 "cells": [
  {
   "cell_type": "markdown",
   "id": "8dea2387",
   "metadata": {},
   "source": [
    "### List Comprehension\n",
    "- Provides clean, concise and efficient code."
   ]
  },
  {
   "cell_type": "code",
   "execution_count": null,
   "id": "0f1331c4",
   "metadata": {},
   "outputs": [],
   "source": [
    "# basic data\n",
    "\n",
    "nums = [1,2,3,4,5,6,]\n"
   ]
  },
  {
   "cell_type": "code",
   "execution_count": 2,
   "id": "0c08c180",
   "metadata": {},
   "outputs": [
    {
     "name": "stdout",
     "output_type": "stream",
     "text": [
      "[2, 4, 6, 8, 10, 12]\n"
     ]
    }
   ],
   "source": [
    "result = [num*2 for num in nums]\n",
    "print(result)"
   ]
  },
  {
   "cell_type": "markdown",
   "id": "77650dfd",
   "metadata": {},
   "source": [
    "### Dataset"
   ]
  },
  {
   "cell_type": "code",
   "execution_count": 124,
   "id": "06766e9c",
   "metadata": {},
   "outputs": [],
   "source": [
    "products = [\n",
    "    {\"id\": 1, \"name\": \"Laptop\", \"price\": 1200, \"tags\": [\"electronics\", \"computer\"]},\n",
    "    {\"id\": 2, \"name\": \"Phone\", \"price\": 800, \"tags\": [\"electronics\", \"mobile\"]},\n",
    "    {\"id\": 3, \"name\": \"Shoes\", \"price\": 120, \"tags\": [\"fashion\", \"sports\"]},\n",
    "    {\"id\": 4, \"name\": \"Watch\", \"price\": 250, \"tags\": [\"fashion\", \"accessory\"]},\n",
    "    {\"id\": 5, \"name\": \"Headphones\", \"price\": 150, \"tags\": [\"electronics\", \"audio\"]}\n",
    "]"
   ]
  },
  {
   "cell_type": "markdown",
   "id": "c3521bc2",
   "metadata": {},
   "source": [
    "### Tasks"
   ]
  },
  {
   "cell_type": "code",
   "execution_count": null,
   "id": "879e546c",
   "metadata": {},
   "outputs": [
    {
     "name": "stdout",
     "output_type": "stream",
     "text": [
      "['Laptop', 'Phone', 'Shoes', 'Watch', 'Headphones']\n"
     ]
    }
   ],
   "source": [
    "# 1. Get a list of all product namesGet a list of all product names.\n",
    "\n",
    "productNames = [product[\"name\"] for product in products]\n",
    "\n",
    "print(productNames)"
   ]
  },
  {
   "cell_type": "code",
   "execution_count": 13,
   "id": "144ef745",
   "metadata": {},
   "outputs": [
    {
     "name": "stdout",
     "output_type": "stream",
     "text": [
      "['Laptop', 'Phone']\n"
     ]
    }
   ],
   "source": [
    "# 2. Get a list of product names where price > 500.\n",
    "\n",
    "priceGreatorthan500 = [ product[\"name\"]  for product in products if(product[\"price\"] > 500)]\n",
    "\n",
    "print(priceGreatorthan500)\n"
   ]
  },
  {
   "cell_type": "code",
   "execution_count": null,
   "id": "389ca83d",
   "metadata": {},
   "outputs": [
    {
     "name": "stdout",
     "output_type": "stream",
     "text": [
      "['electronics', 'computer', 'electronics', 'mobile', 'fashion', 'sports', 'fashion', 'accessory', 'electronics', 'audio']\n"
     ]
    }
   ],
   "source": [
    "# 3. Get a flat list of all tags (duplicates allowed).\n",
    "\n",
    "getAllTags = [i for product in products for i in product[\"tags\"]]\n",
    "print(getAllTags)"
   ]
  },
  {
   "cell_type": "code",
   "execution_count": null,
   "id": "37069392",
   "metadata": {},
   "outputs": [
    {
     "name": "stdout",
     "output_type": "stream",
     "text": [
      "{'accessory', 'electronics', 'fashion', 'audio', 'computer', 'mobile', 'sports'}\n"
     ]
    }
   ],
   "source": [
    "# 4. Get a set (unique list) of all tags.\n",
    "\n",
    "uniqueTags = set([i for product in products for i in product[\"tags\"]])\n",
    "\n",
    "print(uniqueTags)"
   ]
  },
  {
   "cell_type": "code",
   "execution_count": null,
   "id": "8efae365",
   "metadata": {},
   "outputs": [
    {
     "name": "stdout",
     "output_type": "stream",
     "text": [
      "[<class 'tuple'>, <class 'tuple'>, <class 'tuple'>, <class 'tuple'>, <class 'tuple'>]\n"
     ]
    }
   ],
   "source": [
    "# 5. Create a list of tuples (name, price) for each product\n",
    "\n",
    "listOfTuple =  [(product['name'] , product['price']) for product in products]\n",
    "\n",
    "print([type(i) for i in listOfTuple])"
   ]
  },
  {
   "cell_type": "code",
   "execution_count": 119,
   "id": "53493659",
   "metadata": {},
   "outputs": [
    {
     "name": "stdout",
     "output_type": "stream",
     "text": [
      "[{'id': 1, 'name': 'Laptop', 'price': 1200, 'tags': ['electronics', 'computer']}, {'id': 5, 'name': 'Headphones', 'price': 150, 'tags': ['electronics', 'audio']}]\n"
     ]
    }
   ],
   "source": [
    "# 6. Get a list of names of products whose name length > 5.\n",
    "\n",
    "listOfNames = [product for product in products if(len(product[\"name\"]) > 5)]\n",
    "\n",
    "print(listOfNames)"
   ]
  },
  {
   "cell_type": "code",
   "execution_count": 125,
   "id": "0ec6c65f",
   "metadata": {},
   "outputs": [
    {
     "name": "stdout",
     "output_type": "stream",
     "text": [
      "{'Laptop': 1200, 'Phone': 800, 'Shoes': 120, 'Watch': 250, 'Headphones': 150}\n"
     ]
    }
   ],
   "source": [
    "# BONUS CHALLENGE:\n",
    "#  Make a dictionary with product name as key and price as value, using a dict comprehension.\n",
    "\n",
    "result = {product[\"name\"] : product[\"price\"] for product in products }\n",
    "print(result)"
   ]
  }
 ],
 "metadata": {
  "kernelspec": {
   "display_name": "base",
   "language": "python",
   "name": "python3"
  },
  "language_info": {
   "codemirror_mode": {
    "name": "ipython",
    "version": 3
   },
   "file_extension": ".py",
   "mimetype": "text/x-python",
   "name": "python",
   "nbconvert_exporter": "python",
   "pygments_lexer": "ipython3",
   "version": "3.11.5"
  }
 },
 "nbformat": 4,
 "nbformat_minor": 5
}
