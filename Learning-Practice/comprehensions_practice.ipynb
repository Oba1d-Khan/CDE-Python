{
 "cells": [
  {
   "cell_type": "markdown",
   "id": "aa135219",
   "metadata": {},
   "source": [
    "#### List + Dict Comprehensions Practice"
   ]
  },
  {
   "cell_type": "code",
   "execution_count": 11,
   "id": "7bce210b",
   "metadata": {},
   "outputs": [],
   "source": [
    "# Dataset\n",
    "employees = [\n",
    "    {\"id\": 1, \"name\": \"Ali\", \"dept\": \"IT\", \"salary\": 70000},\n",
    "    {\"id\": 2, \"name\": \"Sara\", \"dept\": \"HR\", \"salary\": 50000},\n",
    "    {\"id\": 3, \"name\": \"Bilal\", \"dept\": \"Finance\", \"salary\": 60000},\n",
    "    {\"id\": 4, \"name\": \"Zara\", \"dept\": \"IT\", \"salary\": 80000},\n",
    "    {\"id\": 5, \"name\": \"Omar\", \"dept\": \"Finance\", \"salary\": 55000}\n",
    "]\n"
   ]
  },
  {
   "cell_type": "code",
   "execution_count": 4,
   "id": "a97f9a38",
   "metadata": {},
   "outputs": [
    {
     "name": "stdout",
     "output_type": "stream",
     "text": [
      "{'Ali': 70000, 'Sara': 50000, 'Bilal': 60000, 'Zara': 80000, 'Omar': 55000}\n"
     ]
    }
   ],
   "source": [
    "# 1. Simple Dict Comp → Create a dict mapping name → salary\n",
    "\n",
    "simpleDict = {employee[\"name\"] : employee[\"salary\"] for employee in employees}\n",
    "print(simpleDict)"
   ]
  },
  {
   "cell_type": "code",
   "execution_count": 25,
   "id": "4459e00b",
   "metadata": {},
   "outputs": [
    {
     "name": "stdout",
     "output_type": "stream",
     "text": [
      "{'Ali': 70000, 'Zara': 80000}\n"
     ]
    }
   ],
   "source": [
    "# 2. Filter with Dict Comp → Create a dict of employees whose salary is greater than 60000.\n",
    "\n",
    "filterDict = {e[\"name\"] : e[\"salary\"] for e in employees if e[\"salary\"] > 60000}\n",
    "print(filterDict)"
   ]
  },
  {
   "cell_type": "code",
   "execution_count": null,
   "id": "68efae50",
   "metadata": {},
   "outputs": [
    {
     "ename": "SyntaxError",
     "evalue": "expected 'else' after 'if' expression (2849873568.py, line 3)",
     "output_type": "error",
     "traceback": [
      "\u001b[1;36m  Cell \u001b[1;32mIn[28], line 3\u001b[1;36m\u001b[0m\n\u001b[1;33m    groupDict = {e[\"dept\"] : [e[\"dept\"] if e[\"dept\"] in employees] for e in employees}\u001b[0m\n\u001b[1;37m                              ^\u001b[0m\n\u001b[1;31mSyntaxError\u001b[0m\u001b[1;31m:\u001b[0m expected 'else' after 'if' expression\n"
     ]
    }
   ],
   "source": [
    "# 3. Grouping by Dept (harder) → Create a dict where key = department, value = list of employees in that dept.\n",
    "\n",
    "groupDict = {}\n",
    "print(groupDict)"
   ]
  }
 ],
 "metadata": {
  "kernelspec": {
   "display_name": "base",
   "language": "python",
   "name": "python3"
  },
  "language_info": {
   "codemirror_mode": {
    "name": "ipython",
    "version": 3
   },
   "file_extension": ".py",
   "mimetype": "text/x-python",
   "name": "python",
   "nbconvert_exporter": "python",
   "pygments_lexer": "ipython3",
   "version": "3.11.5"
  }
 },
 "nbformat": 4,
 "nbformat_minor": 5
}
