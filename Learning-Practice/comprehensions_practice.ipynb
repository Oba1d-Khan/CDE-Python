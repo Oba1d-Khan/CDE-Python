{
 "cells": [
  {
   "cell_type": "markdown",
   "id": "aa135219",
   "metadata": {},
   "source": [
    "#### List + Dict Comprehensions Practice"
   ]
  },
  {
   "cell_type": "code",
   "execution_count": null,
   "id": "7bce210b",
   "metadata": {},
   "outputs": [],
   "source": [
    "# Dataset\n",
    "employees = [\n",
    "    {\"id\": 1, \"name\": \"Ali\", \"dept\": \"IT\", \"salary\": 70000},\n",
    "    {\"id\": 2, \"name\": \"Sara\", \"dept\": \"HR\", \"salary\": 50000},\n",
    "    {\"id\": 3, \"name\": \"Bilal\", \"dept\": \"Finance\", \"salary\": 60000},\n",
    "    {\"id\": 4, \"name\": \"Zara\", \"dept\": \"IT\", \"salary\": 80000},\n",
    "    {\"id\": 5, \"name\": \"Omar\", \"dept\": \"Finance\", \"salary\": 55000}\n",
    "]\n"
   ]
  },
  {
   "cell_type": "code",
   "execution_count": null,
   "id": "a97f9a38",
   "metadata": {},
   "outputs": [
    {
     "name": "stdout",
     "output_type": "stream",
     "text": [
      "{'Ali': 70000, 'Sara': 50000, 'Bilal': 60000, 'Zara': 80000, 'Omar': 55000}\n"
     ]
    }
   ],
   "source": [
    "# 1. Simple Dict Comp → Create a dict mapping name → salary\n",
    "\n",
    "simpleDict = {employee[\"name\"] : employee[\"salary\"] for employee in employees}\n",
    "print(simpleDict)"
   ]
  },
  {
   "cell_type": "code",
   "execution_count": null,
   "id": "4459e00b",
   "metadata": {},
   "outputs": [
    {
     "name": "stdout",
     "output_type": "stream",
     "text": [
      "{'Ali': 70000, 'Zara': 80000}\n"
     ]
    }
   ],
   "source": [
    "# 2. Filter with Dict Comp → Create a dict of employees whose salary is greater than 60000.\n",
    "\n",
    "filterDict = {e[\"name\"] : e[\"salary\"] for e in employees if e[\"salary\"] > 60000}\n",
    "print(filterDict)"
   ]
  },
  {
   "cell_type": "code",
   "execution_count": null,
   "id": "68efae50",
   "metadata": {},
   "outputs": [
    {
     "name": "stdout",
     "output_type": "stream",
     "text": [
      "{}\n"
     ]
    }
   ],
   "source": [
    "# 3. Grouping by Dept (harder) → Create a dict where key = department, value = list of employees in that dept.\n",
    "\n",
    "groupDict = {}\n",
    "print(groupDict)"
   ]
  },
  {
   "cell_type": "markdown",
   "id": "e6478f05",
   "metadata": {},
   "source": []
  }
 ],
 "metadata": {
  "kernelspec": {
   "display_name": "base",
   "language": "python",
   "name": "python3"
  },
  "language_info": {
   "codemirror_mode": {
    "name": "ipython",
    "version": 3
   },
   "file_extension": ".py",
   "mimetype": "text/x-python",
   "name": "python",
   "nbconvert_exporter": "python",
   "pygments_lexer": "ipython3",
   "version": "3.11.5"
  }
 },
 "nbformat": 4,
 "nbformat_minor": 5
}
