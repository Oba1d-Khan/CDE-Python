{
 "cells": [
  {
   "cell_type": "code",
   "execution_count": 1,
   "id": "2f73b07b",
   "metadata": {},
   "outputs": [],
   "source": [
    "candidate = {\n",
    "    \"name\" : \"Obaid\",\n",
    "    \"name\" : \"Khan\"\n",
    "}"
   ]
  },
  {
   "cell_type": "code",
   "execution_count": 2,
   "id": "339daea4",
   "metadata": {},
   "outputs": [
    {
     "name": "stdout",
     "output_type": "stream",
     "text": [
      "1\n"
     ]
    }
   ],
   "source": [
    "print(len(candidate))   # if using same keys then only last values will be printed since python dicts holds uniqure keys"
   ]
  },
  {
   "cell_type": "markdown",
   "id": "1097ce8c",
   "metadata": {},
   "source": [
    "_if using same keys then only last values will be printed since python dicts holds uniqure keys_"
   ]
  },
  {
   "cell_type": "code",
   "execution_count": 3,
   "id": "99ecd88b",
   "metadata": {},
   "outputs": [],
   "source": [
    "students = [\n",
    "    {\"name\": \"Ali\", \"age\": 21},\n",
    "    {\"name\": \"Sara\", \"age\": 22}\n",
    "]"
   ]
  },
  {
   "cell_type": "code",
   "execution_count": 7,
   "id": "918a67c8",
   "metadata": {},
   "outputs": [
    {
     "name": "stdout",
     "output_type": "stream",
     "text": [
      "Ali\n",
      "Sara\n"
     ]
    }
   ],
   "source": [
    "for student in students:\n",
    "    print(student[\"name\"])"
   ]
  }
 ],
 "metadata": {
  "kernelspec": {
   "display_name": "base",
   "language": "python",
   "name": "python3"
  },
  "language_info": {
   "codemirror_mode": {
    "name": "ipython",
    "version": 3
   },
   "file_extension": ".py",
   "mimetype": "text/x-python",
   "name": "python",
   "nbconvert_exporter": "python",
   "pygments_lexer": "ipython3",
   "version": "3.11.5"
  }
 },
 "nbformat": 4,
 "nbformat_minor": 5
}
