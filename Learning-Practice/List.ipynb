{
 "cells": [
  {
   "cell_type": "markdown",
   "id": "852f4b24",
   "metadata": {},
   "source": [
    "print all hobbies of all users"
   ]
  },
  {
   "cell_type": "code",
   "execution_count": 7,
   "id": "86c73197",
   "metadata": {},
   "outputs": [],
   "source": [
    "# struct: list in dict inside a list\n",
    "users = [\n",
    "    {\"id\": 1, \"name\": \"Ali\", \"hobbies\": [\"cricket\", \"reading\"]},\n",
    "    {\"id\": 2, \"name\": \"Sara\", \"hobbies\": [\"painting\", \"music\"]}\n",
    "]\n"
   ]
  },
  {
   "cell_type": "code",
   "execution_count": 3,
   "id": "8f0526c9",
   "metadata": {},
   "outputs": [
    {
     "name": "stdout",
     "output_type": "stream",
     "text": [
      "cricket\n",
      "reading\n",
      "painting\n",
      "music\n"
     ]
    }
   ],
   "source": [
    "for user in users:\n",
    "    hobby = user[\"hobbies\"]\n",
    "    for h in hobby:\n",
    "        print(h)"
   ]
  }
 ],
 "metadata": {
  "kernelspec": {
   "display_name": "base",
   "language": "python",
   "name": "python3"
  },
  "language_info": {
   "codemirror_mode": {
    "name": "ipython",
    "version": 3
   },
   "file_extension": ".py",
   "mimetype": "text/x-python",
   "name": "python",
   "nbconvert_exporter": "python",
   "pygments_lexer": "ipython3",
   "version": "3.11.5"
  }
 },
 "nbformat": 4,
 "nbformat_minor": 5
}
